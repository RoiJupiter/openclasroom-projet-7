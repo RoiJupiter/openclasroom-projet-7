{
 "cells": [
  {
   "cell_type": "code",
   "execution_count": 1,
   "id": "f5f65592",
   "metadata": {},
   "outputs": [
    {
     "data": {
      "text/plain": [
       "'!pip install numpy\\n%pip install\\n%pip install scikit-learn\\n%pip install tensorflow --upgrade\\n!pip install absl-py\\n%pip install keras_application'"
      ]
     },
     "execution_count": 1,
     "metadata": {},
     "output_type": "execute_result"
    }
   ],
   "source": [
    "'''!pip install numpy\n",
    "%pip install\n",
    "%pip install scikit-learn\n",
    "%pip install tensorflow --upgrade\n",
    "!pip install absl-py\n",
    "%pip install keras_application'''\n"
   ]
  },
  {
   "cell_type": "markdown",
   "id": "bd62aa6f",
   "metadata": {},
   "source": [
    "https://www.analyticsvidhya.com/blog/2021/12/sentiment-analysis-on-tweets-with-lstm-for-beginners/"
   ]
  },
  {
   "cell_type": "code",
   "execution_count": 2,
   "id": "3ac2d344",
   "metadata": {},
   "outputs": [
    {
     "name": "stdout",
     "output_type": "stream",
     "text": [
      "Segmentation Models: using `tf.keras` framework.\n"
     ]
    }
   ],
   "source": [
    "import numpy as np # linear algebraa\n",
    "import pandas as pd #* data processing, CSV file I/O (e.g. pd.read_csv)\n",
    "# Matplot\n",
    "import matplotlib.pyplot as plt\n",
    "%matplotlib inline\n",
    "\n",
    "import os\n",
    "from sklearn.preprocessing import LabelEncoder\n",
    "import tensorflow as tf\n",
    "\n",
    "# Import nltk package and download the stopwords\n",
    "import nltk \n",
    "from nltk.corpus import stopwords\n",
    "\n",
    "## Imports libs\n",
    "import os\n",
    "os.environ['CUDA_VISIBLE_DEVICES'] = '0'\n",
    "os.environ[\"SM_FRAMEWORK\"] = \"tf.keras\"\n",
    "\n",
    "from tensorflow import keras\n",
    "import segmentation_models as sm\n",
    "\n",
    "from keras.preprocessing.text import Tokenizer\n",
    "\n",
    "from keras.utils import pad_sequences\n",
    "'''from keras.preprocessing.sequence import pad_sequences'''\n",
    "\n",
    "from sklearn.preprocessing import LabelEncoder\n",
    "\n",
    "# Import various layers needed for the architecture from keras\n",
    "from tensorflow.keras.layers import Conv1D, Bidirectional, LSTM, Dense, Input, Dropout\n",
    "from tensorflow.keras.layers import SpatialDropout1D\n",
    "from tensorflow.keras.callbacks import ModelCheckpoint"
   ]
  },
  {
   "cell_type": "code",
   "execution_count": 3,
   "id": "4d63665f",
   "metadata": {},
   "outputs": [
    {
     "name": "stdout",
     "output_type": "stream",
     "text": [
      "Open file: data/training.1600000.processed.noemoticon.csv\n"
     ]
    }
   ],
   "source": [
    "dataset_path = \"data/training.1600000.processed.noemoticon.csv\"\n",
    "print(\"Open file:\", dataset_path)\n",
    "df = pd.read_csv(dataset_path, encoding = \"ISO-8859-1\" , names= [\"target\", \"ids\", \"date\", \"flag\", \"user\", \"text\"])"
   ]
  },
  {
   "cell_type": "code",
   "execution_count": 4,
   "id": "9c23fefc",
   "metadata": {},
   "outputs": [],
   "source": [
    "df = df.drop(['ids', 'date', 'flag', 'user'], axis=1)\n"
   ]
  },
  {
   "cell_type": "code",
   "execution_count": 5,
   "id": "50a32e3f",
   "metadata": {},
   "outputs": [
    {
     "data": {
      "text/html": [
       "<div>\n",
       "<style scoped>\n",
       "    .dataframe tbody tr th:only-of-type {\n",
       "        vertical-align: middle;\n",
       "    }\n",
       "\n",
       "    .dataframe tbody tr th {\n",
       "        vertical-align: top;\n",
       "    }\n",
       "\n",
       "    .dataframe thead th {\n",
       "        text-align: right;\n",
       "    }\n",
       "</style>\n",
       "<table border=\"1\" class=\"dataframe\">\n",
       "  <thead>\n",
       "    <tr style=\"text-align: right;\">\n",
       "      <th></th>\n",
       "      <th>target</th>\n",
       "      <th>text</th>\n",
       "    </tr>\n",
       "  </thead>\n",
       "  <tbody>\n",
       "    <tr>\n",
       "      <th>1599980</th>\n",
       "      <td>4</td>\n",
       "      <td>@myheartandmind jo jen by nemuselo zrovna tÃ© ...</td>\n",
       "    </tr>\n",
       "    <tr>\n",
       "      <th>1599981</th>\n",
       "      <td>4</td>\n",
       "      <td>Another Commenting Contest! [;: Yay!!!  http:/...</td>\n",
       "    </tr>\n",
       "    <tr>\n",
       "      <th>1599982</th>\n",
       "      <td>4</td>\n",
       "      <td>@thrillmesoon i figured out how to see my twee...</td>\n",
       "    </tr>\n",
       "    <tr>\n",
       "      <th>1599983</th>\n",
       "      <td>4</td>\n",
       "      <td>@oxhot theri tomorrow, drinking coffee, talkin...</td>\n",
       "    </tr>\n",
       "    <tr>\n",
       "      <th>1599984</th>\n",
       "      <td>4</td>\n",
       "      <td>You heard it here first -- We're having a girl...</td>\n",
       "    </tr>\n",
       "    <tr>\n",
       "      <th>1599985</th>\n",
       "      <td>4</td>\n",
       "      <td>if ur the lead singer in a band, beware fallin...</td>\n",
       "    </tr>\n",
       "    <tr>\n",
       "      <th>1599986</th>\n",
       "      <td>4</td>\n",
       "      <td>@tarayqueen too much ads on my blog.</td>\n",
       "    </tr>\n",
       "    <tr>\n",
       "      <th>1599987</th>\n",
       "      <td>4</td>\n",
       "      <td>@La_r_a NEVEER  I think that you both will get...</td>\n",
       "    </tr>\n",
       "    <tr>\n",
       "      <th>1599988</th>\n",
       "      <td>4</td>\n",
       "      <td>@Roy_Everitt ha- good job. that's right - we g...</td>\n",
       "    </tr>\n",
       "    <tr>\n",
       "      <th>1599989</th>\n",
       "      <td>4</td>\n",
       "      <td>@Ms_Hip_Hop im glad ur doing well</td>\n",
       "    </tr>\n",
       "    <tr>\n",
       "      <th>1599990</th>\n",
       "      <td>4</td>\n",
       "      <td>WOOOOO! Xbox is back</td>\n",
       "    </tr>\n",
       "    <tr>\n",
       "      <th>1599991</th>\n",
       "      <td>4</td>\n",
       "      <td>@rmedina @LaTati Mmmm  That sounds absolutely ...</td>\n",
       "    </tr>\n",
       "    <tr>\n",
       "      <th>1599992</th>\n",
       "      <td>4</td>\n",
       "      <td>ReCoVeRiNg FrOm ThE lOnG wEeKeNd</td>\n",
       "    </tr>\n",
       "    <tr>\n",
       "      <th>1599993</th>\n",
       "      <td>4</td>\n",
       "      <td>@SCOOBY_GRITBOYS</td>\n",
       "    </tr>\n",
       "    <tr>\n",
       "      <th>1599994</th>\n",
       "      <td>4</td>\n",
       "      <td>@Cliff_Forster Yeah, that does work better tha...</td>\n",
       "    </tr>\n",
       "    <tr>\n",
       "      <th>1599995</th>\n",
       "      <td>4</td>\n",
       "      <td>Just woke up. Having no school is the best fee...</td>\n",
       "    </tr>\n",
       "    <tr>\n",
       "      <th>1599996</th>\n",
       "      <td>4</td>\n",
       "      <td>TheWDB.com - Very cool to hear old Walt interv...</td>\n",
       "    </tr>\n",
       "    <tr>\n",
       "      <th>1599997</th>\n",
       "      <td>4</td>\n",
       "      <td>Are you ready for your MoJo Makeover? Ask me f...</td>\n",
       "    </tr>\n",
       "    <tr>\n",
       "      <th>1599998</th>\n",
       "      <td>4</td>\n",
       "      <td>Happy 38th Birthday to my boo of alll time!!! ...</td>\n",
       "    </tr>\n",
       "    <tr>\n",
       "      <th>1599999</th>\n",
       "      <td>4</td>\n",
       "      <td>happy #charitytuesday @theNSPCC @SparksCharity...</td>\n",
       "    </tr>\n",
       "  </tbody>\n",
       "</table>\n",
       "</div>"
      ],
      "text/plain": [
       "         target                                               text\n",
       "1599980       4  @myheartandmind jo jen by nemuselo zrovna tÃ© ...\n",
       "1599981       4  Another Commenting Contest! [;: Yay!!!  http:/...\n",
       "1599982       4  @thrillmesoon i figured out how to see my twee...\n",
       "1599983       4  @oxhot theri tomorrow, drinking coffee, talkin...\n",
       "1599984       4  You heard it here first -- We're having a girl...\n",
       "1599985       4  if ur the lead singer in a band, beware fallin...\n",
       "1599986       4              @tarayqueen too much ads on my blog. \n",
       "1599987       4  @La_r_a NEVEER  I think that you both will get...\n",
       "1599988       4  @Roy_Everitt ha- good job. that's right - we g...\n",
       "1599989       4                 @Ms_Hip_Hop im glad ur doing well \n",
       "1599990       4                              WOOOOO! Xbox is back \n",
       "1599991       4  @rmedina @LaTati Mmmm  That sounds absolutely ...\n",
       "1599992       4                  ReCoVeRiNg FrOm ThE lOnG wEeKeNd \n",
       "1599993       4                                  @SCOOBY_GRITBOYS \n",
       "1599994       4  @Cliff_Forster Yeah, that does work better tha...\n",
       "1599995       4  Just woke up. Having no school is the best fee...\n",
       "1599996       4  TheWDB.com - Very cool to hear old Walt interv...\n",
       "1599997       4  Are you ready for your MoJo Makeover? Ask me f...\n",
       "1599998       4  Happy 38th Birthday to my boo of alll time!!! ...\n",
       "1599999       4  happy #charitytuesday @theNSPCC @SparksCharity..."
      ]
     },
     "execution_count": 5,
     "metadata": {},
     "output_type": "execute_result"
    }
   ],
   "source": [
    "df.tail(20)"
   ]
  },
  {
   "cell_type": "code",
   "execution_count": 6,
   "id": "e0544df3",
   "metadata": {},
   "outputs": [],
   "source": [
    "label_to_target = {0:\"Negative\", 4:\"Positive\"}\n",
    "def label_decoder(label):\n",
    "     return label_to_target[label]\n",
    "df.target = df.target.apply(lambda x: label_decoder(x))"
   ]
  },
  {
   "cell_type": "code",
   "execution_count": 7,
   "id": "69d708c4",
   "metadata": {
    "scrolled": true
   },
   "outputs": [
    {
     "data": {
      "text/plain": [
       "<BarContainer object of 2 artists>"
      ]
     },
     "execution_count": 7,
     "metadata": {},
     "output_type": "execute_result"
    },
    {
     "data": {
      "image/png": "[encoded data removed]",
      "text/plain": [
       "<Figure size 800x400 with 1 Axes>"
      ]
     },
     "metadata": {},
     "output_type": "display_data"
    }
   ],
   "source": [
    "distribution = df.target.value_counts()\n",
    "plt.figure(figsize=(8,4))\n",
    "plt.bar(distribution.index, distribution.values)"
   ]
  },
  {
   "cell_type": "code",
   "execution_count": 8,
   "id": "8e10f451",
   "metadata": {},
   "outputs": [
    {
     "name": "stdout",
     "output_type": "stream",
     "text": [
      "['i', 'me', 'my', 'myself', 'we', 'our', 'ours', 'ourselves', 'you', \"you're\", \"you've\", \"you'll\", \"you'd\", 'your', 'yours', 'yourself', 'yourselves', 'he', 'him', 'his', 'himself', 'she', \"she's\", 'her', 'hers', 'herself', 'it', \"it's\", 'its', 'itself', 'they', 'them', 'their', 'theirs', 'themselves', 'what', 'which', 'who', 'whom', 'this', 'that', \"that'll\", 'these', 'those', 'am', 'is', 'are', 'was', 'were', 'be', 'been', 'being', 'have', 'has', 'had', 'having', 'do', 'does', 'did', 'doing', 'a', 'an', 'the', 'and', 'but', 'if', 'or', 'because', 'as', 'until', 'while', 'of', 'at', 'by', 'for', 'with', 'about', 'against', 'between', 'into', 'through', 'during', 'before', 'after', 'above', 'below', 'to', 'from', 'up', 'down', 'in', 'out', 'on', 'off', 'over', 'under', 'again', 'further', 'then', 'once', 'here', 'there', 'when', 'where', 'why', 'how', 'all', 'any', 'both', 'each', 'few', 'more', 'most', 'other', 'some', 'such', 'no', 'nor', 'not', 'only', 'own', 'same', 'so', 'than', 'too', 'very', 's', 't', 'can', 'will', 'just', 'don', \"don't\", 'should', \"should've\", 'now', 'd', 'll', 'm', 'o', 're', 've', 'y', 'ain', 'aren', \"aren't\", 'couldn', \"couldn't\", 'didn', \"didn't\", 'doesn', \"doesn't\", 'hadn', \"hadn't\", 'hasn', \"hasn't\", 'haven', \"haven't\", 'isn', \"isn't\", 'ma', 'mightn', \"mightn't\", 'mustn', \"mustn't\", 'needn', \"needn't\", 'shan', \"shan't\", 'shouldn', \"shouldn't\", 'wasn', \"wasn't\", 'weren', \"weren't\", 'won', \"won't\", 'wouldn', \"wouldn't\"]\n"
     ]
    },
    {
     "name": "stderr",
     "output_type": "stream",
     "text": [
      "[nltk_data] Downloading package stopwords to\n",
      "[nltk_data]     C:\\Users\\Jupiter\\AppData\\Roaming\\nltk_data...\n",
      "[nltk_data]   Package stopwords is already up-to-date!\n"
     ]
    }
   ],
   "source": [
    "\n",
    "nltk.download('stopwords')\n",
    "# We filter out the english language stopwrds\n",
    "\n",
    "stop_words = stopwords.words('english')\n",
    "print(stop_words)"
   ]
  },
  {
   "cell_type": "code",
   "execution_count": 9,
   "id": "a9579236",
   "metadata": {},
   "outputs": [],
   "source": [
    "from nltk.stem import SnowballStemmer\n",
    "\n",
    "stemmer = SnowballStemmer('english')"
   ]
  },
  {
   "cell_type": "code",
   "execution_count": 10,
   "id": "3a0497cd",
   "metadata": {},
   "outputs": [],
   "source": [
    "import re\n",
    "text_cleaning_regex = \"@S+|https?:S+|http?:S|[^A-Za-z0-9]+\""
   ]
  },
  {
   "cell_type": "code",
   "execution_count": 11,
   "id": "de319cd1",
   "metadata": {},
   "outputs": [],
   "source": [
    "def clean_tweets(text, stem=False):\n",
    "    # Text passed to the regex equatio\n",
    "    text = re.sub(text_cleaning_regex, ' ', str(text).lower()).strip()\n",
    "    # Empty list created to store final tokens\n",
    "    tokens = []\n",
    "    for token in text.split():\n",
    "    # check if the token is a stop word or not\n",
    "        if token not in stop_words:\n",
    "            if stem:\n",
    "                # Paased to the snowball stemmer\n",
    "                tokens.append(stemmer.stem(token))\n",
    "            else:\n",
    "                # A\n",
    "                tokens.append(token)\n",
    "    return \" \".join(tokens)"
   ]
  },
  {
   "cell_type": "code",
   "execution_count": 12,
   "id": "70f8323e",
   "metadata": {},
   "outputs": [],
   "source": [
    "df.text = df.text.apply(lambda x: clean_tweets(x))"
   ]
  },
  {
   "cell_type": "code",
   "execution_count": 13,
   "id": "1a908224",
   "metadata": {},
   "outputs": [
    {
     "name": "stdout",
     "output_type": "stream",
     "text": [
      "Train Data size: 1280000\n",
      "Test Data size 320000\n"
     ]
    }
   ],
   "source": [
    "# Import functions from sklearn library\n",
    "from sklearn.model_selection import train_test_split\n",
    "from sklearn.preprocessing import LabelEncoder\n",
    "# Splitting the data into training and testing sets\n",
    "train_data, test_data = train_test_split(df, test_size=0.2,random_state=16)\n",
    "print(\"Train Data size:\", len(train_data))\n",
    "print(\"Test Data size\", len(test_data))"
   ]
  },
  {
   "cell_type": "code",
   "execution_count": 14,
   "id": "d9f54efd",
   "metadata": {},
   "outputs": [],
   "source": [
    "tokenizer = Tokenizer()"
   ]
  },
  {
   "cell_type": "code",
   "execution_count": 15,
   "id": "d0388957",
   "metadata": {},
   "outputs": [
    {
     "name": "stderr",
     "output_type": "stream",
     "text": [
      "IOPub data rate exceeded.\n",
      "The notebook server will temporarily stop sending output\n",
      "to the client in order to avoid crashing it.\n",
      "To change this limit, set the config variable\n",
      "`--NotebookApp.iopub_data_rate_limit`.\n",
      "\n",
      "Current values:\n",
      "NotebookApp.iopub_data_rate_limit=1000000.0 (bytes/sec)\n",
      "NotebookApp.rate_limit_window=3.0 (secs)\n",
      "\n"
     ]
    }
   ],
   "source": [
    "tokenizer.fit_on_texts(train_data.text)\n",
    "word_index = tokenizer.word_index\n",
    "print(word_index)"
   ]
  },
  {
   "cell_type": "code",
   "execution_count": 16,
   "id": "0a30d4d3",
   "metadata": {},
   "outputs": [
    {
     "name": "stdout",
     "output_type": "stream",
     "text": [
      "Vocabulary Size : 565660\n"
     ]
    }
   ],
   "source": [
    "vocab_size = len(tokenizer.word_index) + 1\n",
    "print(\"Vocabulary Size :\", vocab_size)"
   ]
  },
  {
   "cell_type": "code",
   "execution_count": 17,
   "id": "7fb09e59",
   "metadata": {},
   "outputs": [],
   "source": [
    "\n",
    "# The tokens are converted into sequences and then passed to the pad_sequences() function\n",
    "x_train = pad_sequences(tokenizer.texts_to_sequences(train_data.text),maxlen = 30)\n",
    "x_test = pad_sequences(tokenizer.texts_to_sequences(test_data.text),maxlen = 30)"
   ]
  },
  {
   "cell_type": "code",
   "execution_count": 18,
   "id": "fc067877",
   "metadata": {},
   "outputs": [],
   "source": [
    "labels = ['Negative', 'Positive']\n",
    "\n",
    "encoder = LabelEncoder()\n",
    "encoder.fit(train_data.target.to_list())\n",
    "y_train = encoder.transform(train_data.target.to_list())\n",
    "y_test = encoder.transform(test_data.target.to_list())\n",
    "y_train = y_train.reshape(-1,1)\n",
    "y_test = y_test.reshape(-1,1)"
   ]
  },
  {
   "cell_type": "code",
   "execution_count": 19,
   "id": "2cbcd045",
   "metadata": {},
   "outputs": [
    {
     "data": {
      "text/plain": [
       "'!wget http://nlp.stanford.edu/data/glove.6B.zip\\n!unzip glove.6B.zip'"
      ]
     },
     "execution_count": 19,
     "metadata": {},
     "output_type": "execute_result"
    }
   ],
   "source": [
    "'''!wget http://nlp.stanford.edu/data/glove.6B.zip\n",
    "!unzip glove.6B.zip'''"
   ]
  },
  {
   "cell_type": "code",
   "execution_count": 20,
   "id": "66db3a4b",
   "metadata": {
    "scrolled": true
   },
   "outputs": [
    {
     "name": "stdout",
     "output_type": "stream",
     "text": [
      "Found 400000 word vectors.\n"
     ]
    }
   ],
   "source": [
    "embeddings_index = {}\n",
    "# opening the downloaded glove embeddings file\n",
    "f = open('data/glove.6B.300d.txt',encoding=\"utf8\")\n",
    "for line in f:\n",
    "    # For each line file, the words are split and stored in a list\n",
    "    values = line.split()\n",
    "    word = value = values[0]\n",
    "    coefs = np.asarray(values[1:], dtype='float32')\n",
    "    embeddings_index[word] = coefs\n",
    "f.close()\n",
    "print('Found %s word vectors.' %len(embeddings_index))"
   ]
  },
  {
   "cell_type": "code",
   "execution_count": 21,
   "id": "c13b1c54",
   "metadata": {},
   "outputs": [],
   "source": [
    "# creating an matrix with zeroes of shape vocab x embedding dimension\n",
    "embedding_matrix = np.zeros((vocab_size, 300))\n",
    "# Iterate through word, index in the dictionary\n",
    "for word, i in word_index.items():\n",
    "    # extract the corresponding vector for the vocab indice of same word\n",
    "    embedding_vector = embeddings_index.get(word)\n",
    "    if embedding_vector is not None:\n",
    "        # Storing it in a matrix\n",
    "        embedding_matrix[i] = embedding_vector"
   ]
  },
  {
   "cell_type": "code",
   "execution_count": 22,
   "id": "f8459bf4",
   "metadata": {},
   "outputs": [],
   "source": [
    "embedding_layer = tf.keras.layers.Embedding(vocab_size,300,weights=[embedding_matrix],\n",
    "                                          input_length=30,trainable=False)"
   ]
  },
  {
   "cell_type": "code",
   "execution_count": 23,
   "id": "7cf614b5",
   "metadata": {},
   "outputs": [],
   "source": [
    "# The Input layer \n",
    "sequence_input = Input(shape=(30,), dtype='int32')\n",
    "# Inputs passed to the embedding layer\n",
    "embedding_sequences = embedding_layer(sequence_input)\n",
    "# dropout and conv layer \n",
    "x = SpatialDropout1D(0.2)(embedding_sequences)\n",
    "x = Conv1D(64, 5, activation='relu')(x)\n",
    "# Passed on to the LSTM layer\n",
    "x = Bidirectional(LSTM(64, dropout=0.2, recurrent_dropout=0.2))(x)\n",
    "x = Dense(512, activation='relu')(x)\n",
    "x = Dropout(0.5)(x)\n",
    "x = Dense(512, activation='relu')(x)\n",
    "# Passed on to activation layer to get final output\n",
    "outputs = Dense(1, activation='sigmoid')(x)\n",
    "model = tf.keras.Model(sequence_input, outputs)"
   ]
  },
  {
   "cell_type": "code",
   "execution_count": 24,
   "id": "610b3312",
   "metadata": {},
   "outputs": [],
   "source": [
    "from tensorflow.keras.optimizers import Adam\n",
    "from tensorflow.keras.callbacks import ReduceLROnPlateau\n",
    "model.compile(optimizer=Adam(learning_rate=0.01), loss='binary_crossentropy',metrics=['accuracy'])\n",
    "ReduceLROnPlateau = ReduceLROnPlateau(factor=0.1,min_lr = 0.01, monitor = 'val_loss',verbose = 1)"
   ]
  },
  {
   "cell_type": "code",
   "execution_count": 25,
   "id": "4c9b8117",
   "metadata": {},
   "outputs": [
    {
     "name": "stdout",
     "output_type": "stream",
     "text": [
      "Epoch 1/10\n",
      "1250/1250 [==============================] - 675s 537ms/step - loss: 0.5198 - accuracy: 0.7401 - val_loss: 0.4871 - val_accuracy: 0.7635 - lr: 0.0100\n",
      "Epoch 2/10\n",
      "1250/1250 [==============================] - 733s 586ms/step - loss: 0.4932 - accuracy: 0.7591 - val_loss: 0.4803 - val_accuracy: 0.7671 - lr: 0.0100\n",
      "Epoch 3/10\n",
      "1250/1250 [==============================] - 760s 608ms/step - loss: 0.4882 - accuracy: 0.7628 - val_loss: 0.4778 - val_accuracy: 0.7692 - lr: 0.0100\n",
      "Epoch 4/10\n",
      "1250/1250 [==============================] - 782s 626ms/step - loss: 0.4850 - accuracy: 0.7646 - val_loss: 0.4805 - val_accuracy: 0.7693 - lr: 0.0100\n",
      "Epoch 5/10\n",
      "1250/1250 [==============================] - 791s 633ms/step - loss: 0.4838 - accuracy: 0.7659 - val_loss: 0.4759 - val_accuracy: 0.7702 - lr: 0.0100\n",
      "Epoch 6/10\n",
      "1250/1250 [==============================] - 794s 636ms/step - loss: 0.4828 - accuracy: 0.7661 - val_loss: 0.4754 - val_accuracy: 0.7702 - lr: 0.0100\n",
      "Epoch 7/10\n",
      "1250/1250 [==============================] - 797s 638ms/step - loss: 0.4808 - accuracy: 0.7672 - val_loss: 0.4763 - val_accuracy: 0.7710 - lr: 0.0100\n",
      "Epoch 8/10\n",
      "1250/1250 [==============================] - 743s 595ms/step - loss: 0.4812 - accuracy: 0.7673 - val_loss: 0.4770 - val_accuracy: 0.7709 - lr: 0.0100\n",
      "Epoch 9/10\n",
      "1250/1250 [==============================] - 694s 555ms/step - loss: 0.4803 - accuracy: 0.7677 - val_loss: 0.4816 - val_accuracy: 0.7707 - lr: 0.0100\n",
      "Epoch 10/10\n",
      "1250/1250 [==============================] - 699s 560ms/step - loss: 0.4802 - accuracy: 0.7679 - val_loss: 0.4742 - val_accuracy: 0.7708 - lr: 0.0100\n"
     ]
    }
   ],
   "source": [
    "training = model.fit(x_train, y_train, batch_size=1024, epochs=10,\n",
    "                    validation_data=(x_test, y_test), callbacks=[ReduceLROnPlateau])"
   ]
  },
  {
   "cell_type": "code",
   "execution_count": 26,
   "id": "653a232a",
   "metadata": {},
   "outputs": [
    {
     "name": "stdout",
     "output_type": "stream",
     "text": [
      "32/32 [==============================] - 24s 725ms/step\n"
     ]
    }
   ],
   "source": [
    "def predict_tweet_sentiment(score):\n",
    "    return \"Positive\" if score>0.5 else \"Negative\"\n",
    "\n",
    "def y_pred(score):\n",
    "    return 1 if score>0.5 else 0\n",
    "scores = model.predict(x_test, verbose=1, batch_size=10000)\n",
    "model_predictions = [predict_tweet_sentiment(score) for score in scores]\n",
    "y_pred = [y_pred(score) for score in scores]"
   ]
  },
  {
   "cell_type": "code",
   "execution_count": 27,
   "id": "dd2ecefd",
   "metadata": {},
   "outputs": [
    {
     "name": "stdout",
     "output_type": "stream",
     "text": [
      "              precision    recall  f1-score   support\n",
      "\n",
      "    Negative       0.78      0.75      0.77    159809\n",
      "    Positive       0.76      0.79      0.78    160191\n",
      "\n",
      "    accuracy                           0.77    320000\n",
      "   macro avg       0.77      0.77      0.77    320000\n",
      "weighted avg       0.77      0.77      0.77    320000\n",
      "\n"
     ]
    }
   ],
   "source": [
    "from sklearn.metrics import classification_report\n",
    "print(classification_report(list(test_data.target), model_predictions))"
   ]
  },
  {
   "cell_type": "code",
   "execution_count": 28,
   "id": "76e2d885",
   "metadata": {},
   "outputs": [],
   "source": [
    "import pandas as pd\n",
    "\n",
    "from sklearn.metrics import recall_score\n",
    "recall=recall_score(y_test, y_pred)\n",
    "from sklearn.metrics import precision_score\n",
    "precision=precision_score(y_test, y_pred)\n",
    "from sklearn.metrics import accuracy_score\n",
    "accuracy=accuracy_score(y_test, y_pred)\n",
    "\n",
    "df = pd.DataFrame({'Nom du modèle': ['Modèle Couche LSTM'], 'Recall': [recall], 'Precision': [precision], 'Accuracy': [accuracy]})\n",
    "\n",
    "df\n",
    "\n",
    "#export de la donnée en csv \n",
    "df.to_csv('models_results/model_keras_lstm_results.csv')"
   ]
  },
  {
   "cell_type": "code",
   "execution_count": 29,
   "id": "48aab414",
   "metadata": {},
   "outputs": [
    {
     "data": {
      "text/html": [
       "<div>\n",
       "<style scoped>\n",
       "    .dataframe tbody tr th:only-of-type {\n",
       "        vertical-align: middle;\n",
       "    }\n",
       "\n",
       "    .dataframe tbody tr th {\n",
       "        vertical-align: top;\n",
       "    }\n",
       "\n",
       "    .dataframe thead th {\n",
       "        text-align: right;\n",
       "    }\n",
       "</style>\n",
       "<table border=\"1\" class=\"dataframe\">\n",
       "  <thead>\n",
       "    <tr style=\"text-align: right;\">\n",
       "      <th></th>\n",
       "      <th>Nom du modèle</th>\n",
       "      <th>Recall</th>\n",
       "      <th>Precision</th>\n",
       "      <th>Accuracy</th>\n",
       "    </tr>\n",
       "  </thead>\n",
       "  <tbody>\n",
       "    <tr>\n",
       "      <th>0</th>\n",
       "      <td>Modèle Couche LSTM</td>\n",
       "      <td>0.794096</td>\n",
       "      <td>0.759173</td>\n",
       "      <td>0.770822</td>\n",
       "    </tr>\n",
       "  </tbody>\n",
       "</table>\n",
       "</div>"
      ],
      "text/plain": [
       "        Nom du modèle    Recall  Precision  Accuracy\n",
       "0  Modèle Couche LSTM  0.794096   0.759173  0.770822"
      ]
     },
     "execution_count": 29,
     "metadata": {},
     "output_type": "execute_result"
    }
   ],
   "source": [
    "df"
   ]
  },
  {
   "cell_type": "code",
   "execution_count": 31,
   "id": "7a4dda2f",
   "metadata": {
    "scrolled": true
   },
   "outputs": [
    {
     "name": "stdout",
     "output_type": "stream",
     "text": [
      "Keras weights file (<HDF5 file \"variables.h5\" (mode r+)>) saving:\n",
      "...layers\\bidirectional\n",
      "......vars\n",
      "...layers\\bidirectional\\backward_layer\n",
      "......vars\n",
      "...layers\\bidirectional\\backward_layer\\cell\n",
      "......vars\n",
      ".........0\n",
      ".........1\n",
      ".........2\n",
      "...layers\\bidirectional\\forward_layer\n",
      "......vars\n",
      "...layers\\bidirectional\\forward_layer\\cell\n",
      "......vars\n",
      ".........0\n",
      ".........1\n",
      ".........2\n",
      "...layers\\bidirectional\\layer\n",
      "......vars\n",
      "...layers\\bidirectional\\layer\\cell\n",
      "......vars\n",
      "...layers\\conv1d\n",
      "......vars\n",
      ".........0\n",
      ".........1\n",
      "...layers\\dense\n",
      "......vars\n",
      ".........0\n",
      ".........1\n",
      "...layers\\dense_1\n",
      "......vars\n",
      ".........0\n",
      ".........1\n",
      "...layers\\dense_2\n",
      "......vars\n",
      ".........0\n",
      ".........1\n",
      "...layers\\dropout\n",
      "......vars\n",
      "...layers\\embedding\n",
      "......vars\n",
      ".........0\n",
      "...layers\\input_layer\n",
      "......vars\n",
      "...layers\\spatial_dropout1d\n",
      "......vars\n",
      "...metrics\\mean\n",
      "......vars\n",
      ".........0\n",
      ".........1\n",
      "...metrics\\mean_metric_wrapper\n",
      "......vars\n",
      ".........0\n",
      ".........1\n",
      "...optimizer\n",
      "......vars\n",
      ".........0\n",
      ".........1\n",
      ".........10\n",
      ".........11\n",
      ".........12\n",
      ".........13\n",
      ".........14\n",
      ".........15\n",
      ".........16\n",
      ".........17\n",
      ".........18\n",
      ".........19\n",
      ".........2\n",
      ".........20\n",
      ".........21\n",
      ".........22\n",
      ".........23\n",
      ".........24\n",
      ".........25\n",
      ".........26\n",
      ".........27\n",
      ".........28\n",
      ".........3\n",
      ".........4\n",
      ".........5\n",
      ".........6\n",
      ".........7\n",
      ".........8\n",
      ".........9\n",
      "...vars\n",
      "Keras model archive saving:\n",
      "File Name                                             Modified             Size\n",
      "config.json                                    2023-03-27 12:55:52         5196\n",
      "metadata.json                                  2023-03-27 12:55:52           64\n",
      "variables.h5                                   2023-03-27 12:55:54    684741912\n"
     ]
    }
   ],
   "source": [
    "import pickle\n",
    "#save models\n",
    "pickle.dump(model, open('data/model_keras_LSTM.pkl', 'wb'))"
   ]
  },
  {
   "cell_type": "code",
   "execution_count": 32,
   "id": "5e02ae16",
   "metadata": {
    "scrolled": true
   },
   "outputs": [
    {
     "name": "stdout",
     "output_type": "stream",
     "text": [
      "Keras model archive loading:\n",
      "File Name                                             Modified             Size\n",
      "config.json                                    2023-03-27 12:55:52         5196\n",
      "metadata.json                                  2023-03-27 12:55:52           64\n",
      "variables.h5                                   2023-03-27 12:55:54    684741912\n",
      "Keras weights file (<HDF5 file \"variables.h5\" (mode r)>) loading:\n",
      "...layers\\bidirectional\n",
      "......vars\n",
      "...layers\\bidirectional\\backward_layer\n",
      "......vars\n",
      "...layers\\bidirectional\\backward_layer\\cell\n",
      "......vars\n",
      ".........0\n",
      ".........1\n",
      ".........2\n",
      "...layers\\bidirectional\\forward_layer\n",
      "......vars\n",
      "...layers\\bidirectional\\forward_layer\\cell\n",
      "......vars\n",
      ".........0\n",
      ".........1\n",
      ".........2\n",
      "...layers\\bidirectional\\layer\n",
      "......vars\n",
      "...layers\\bidirectional\\layer\\cell\n",
      "......vars\n",
      "...layers\\conv1d\n",
      "......vars\n",
      ".........0\n",
      ".........1\n",
      "...layers\\dense\n",
      "......vars\n",
      ".........0\n",
      ".........1\n",
      "...layers\\dense_1\n",
      "......vars\n",
      ".........0\n",
      ".........1\n",
      "...layers\\dense_2\n",
      "......vars\n",
      ".........0\n",
      ".........1\n",
      "...layers\\dropout\n",
      "......vars\n",
      "...layers\\embedding\n",
      "......vars\n",
      ".........0\n",
      "...layers\\input_layer\n",
      "......vars\n",
      "...layers\\spatial_dropout1d\n",
      "......vars\n",
      "...metrics\\mean\n",
      "......vars\n",
      ".........0\n",
      ".........1\n",
      "...metrics\\mean_metric_wrapper\n",
      "......vars\n",
      ".........0\n",
      ".........1\n",
      "...optimizer\n",
      "......vars\n",
      ".........0\n",
      ".........1\n",
      ".........10\n",
      ".........11\n",
      ".........12\n",
      ".........13\n",
      ".........14\n",
      ".........15\n",
      ".........16\n",
      ".........17\n",
      ".........18\n",
      ".........19\n",
      ".........2\n",
      ".........20\n",
      ".........21\n",
      ".........22\n",
      ".........23\n",
      ".........24\n",
      ".........25\n",
      ".........26\n",
      ".........27\n",
      ".........28\n",
      ".........3\n",
      ".........4\n",
      ".........5\n",
      ".........6\n",
      ".........7\n",
      ".........8\n",
      ".........9\n",
      "...vars\n"
     ]
    }
   ],
   "source": [
    "from tensorflow import keras\n",
    "\n",
    "with open('data/model_keras_LSTM.pkl', 'rb') as link:\n",
    "    ml = pickle.load(link)"
   ]
  },
  {
   "cell_type": "code",
   "execution_count": 33,
   "id": "299c5eec",
   "metadata": {},
   "outputs": [
    {
     "name": "stdout",
     "output_type": "stream",
     "text": [
      "Model: \"model\"\n",
      "_________________________________________________________________\n",
      " Layer (type)                Output Shape              Param #   \n",
      "=================================================================\n",
      " input_1 (InputLayer)        [(None, 30)]              0         \n",
      "                                                                 \n",
      " embedding (Embedding)       (None, 30, 300)           169698000 \n",
      "                                                                 \n",
      " spatial_dropout1d (SpatialD  (None, 30, 300)          0         \n",
      " ropout1D)                                                       \n",
      "                                                                 \n",
      " conv1d (Conv1D)             (None, 26, 64)            96064     \n",
      "                                                                 \n",
      " bidirectional (Bidirectiona  (None, 128)              66048     \n",
      " l)                                                              \n",
      "                                                                 \n",
      " dense (Dense)               (None, 512)               66048     \n",
      "                                                                 \n",
      " dropout (Dropout)           (None, 512)               0         \n",
      "                                                                 \n",
      " dense_1 (Dense)             (None, 512)               262656    \n",
      "                                                                 \n",
      " dense_2 (Dense)             (None, 1)                 513       \n",
      "                                                                 \n",
      "=================================================================\n",
      "Total params: 170,189,329\n",
      "Trainable params: 491,329\n",
      "Non-trainable params: 169,698,000\n",
      "_________________________________________________________________\n"
     ]
    }
   ],
   "source": [
    "ml.summary()"
   ]
  },
  {
   "cell_type": "code",
   "execution_count": 61,
   "id": "e0b2d2f3",
   "metadata": {},
   "outputs": [],
   "source": [
    "def predict(data, text_col, lemm, maxlen):\n",
    "    try:\n",
    "        # nettoyage\n",
    "        data.text = data.text.apply(lambda x: clean_tweets(x))\n",
    "        \n",
    "        \n",
    "        X = pad_sequences(tokenizer.texts_to_sequences(data.text),maxlen = 30)\n",
    "        \n",
    "        scores = model.predict(X, verbose=1, batch_size=10000)\n",
    "        model_predictions = [predict_tweet_sentiment(score) for score in scores]\n",
    "\n",
    "        return model_predictions\n",
    "\n",
    "    except Exception as e:\n",
    "        error = str(e)\n",
    "\n",
    "        return error"
   ]
  },
  {
   "cell_type": "code",
   "execution_count": 62,
   "id": "e019c6a4",
   "metadata": {},
   "outputs": [
    {
     "data": {
      "text/html": [
       "<div>\n",
       "<style scoped>\n",
       "    .dataframe tbody tr th:only-of-type {\n",
       "        vertical-align: middle;\n",
       "    }\n",
       "\n",
       "    .dataframe tbody tr th {\n",
       "        vertical-align: top;\n",
       "    }\n",
       "\n",
       "    .dataframe thead th {\n",
       "        text-align: right;\n",
       "    }\n",
       "</style>\n",
       "<table border=\"1\" class=\"dataframe\">\n",
       "  <thead>\n",
       "    <tr style=\"text-align: right;\">\n",
       "      <th></th>\n",
       "      <th>text</th>\n",
       "    </tr>\n",
       "  </thead>\n",
       "  <tbody>\n",
       "    <tr>\n",
       "      <th>0</th>\n",
       "      <td>I hate the place</td>\n",
       "    </tr>\n",
       "    <tr>\n",
       "      <th>1</th>\n",
       "      <td>The place is beautiful</td>\n",
       "    </tr>\n",
       "    <tr>\n",
       "      <th>2</th>\n",
       "      <td>love</td>\n",
       "    </tr>\n",
       "    <tr>\n",
       "      <th>3</th>\n",
       "      <td>I hate the place</td>\n",
       "    </tr>\n",
       "    <tr>\n",
       "      <th>4</th>\n",
       "      <td>I have loved the place</td>\n",
       "    </tr>\n",
       "  </tbody>\n",
       "</table>\n",
       "</div>"
      ],
      "text/plain": [
       "                     text\n",
       "0        I hate the place\n",
       "1  The place is beautiful\n",
       "2                    love\n",
       "3        I hate the place\n",
       "4  I have loved the place"
      ]
     },
     "execution_count": 62,
     "metadata": {},
     "output_type": "execute_result"
    }
   ],
   "source": [
    "test = {'text': [\"I hate the place\", \"The place is beautiful\", \"love\", \"I hate the place\",\"I have loved the place\"]}\n",
    "test1 = pd.DataFrame(data=test)\n",
    "test1"
   ]
  },
  {
   "cell_type": "code",
   "execution_count": 63,
   "id": "d742422b",
   "metadata": {},
   "outputs": [
    {
     "name": "stdout",
     "output_type": "stream",
     "text": [
      "1/1 [==============================] - 0s 378ms/step\n"
     ]
    },
    {
     "data": {
      "text/plain": [
       "['Negative', 'Positive', 'Positive', 'Negative', 'Positive']"
      ]
     },
     "execution_count": 63,
     "metadata": {},
     "output_type": "execute_result"
    }
   ],
   "source": [
    "result = predict(test1, 'text', False, 36)\n",
    "result"
   ]
  },
  {
   "cell_type": "code",
   "execution_count": null,
   "id": "49de7668",
   "metadata": {},
   "outputs": [],
   "source": []
  },
  {
   "cell_type": "code",
   "execution_count": null,
   "id": "f9dec2fb",
   "metadata": {},
   "outputs": [],
   "source": []
  },
  {
   "cell_type": "code",
   "execution_count": null,
   "id": "59cde31b",
   "metadata": {},
   "outputs": [],
   "source": []
  },
  {
   "cell_type": "code",
   "execution_count": null,
   "id": "85133a87",
   "metadata": {},
   "outputs": [],
   "source": []
  },
  {
   "cell_type": "code",
   "execution_count": null,
   "id": "948b894b",
   "metadata": {},
   "outputs": [],
   "source": []
  },
  {
   "cell_type": "code",
   "execution_count": null,
   "id": "4d77ef35",
   "metadata": {},
   "outputs": [],
   "source": []
  },
  {
   "cell_type": "code",
   "execution_count": null,
   "id": "c88df1a0",
   "metadata": {},
   "outputs": [],
   "source": [
    "print(tf.__version__)"
   ]
  },
  {
   "cell_type": "code",
   "execution_count": null,
   "id": "88cb5b22",
   "metadata": {},
   "outputs": [],
   "source": [
    "'''!pip install numpy --upgrade'''"
   ]
  },
  {
   "cell_type": "code",
   "execution_count": null,
   "id": "5f527c5a",
   "metadata": {},
   "outputs": [],
   "source": [
    "'''!pip install --upgrade pip\n",
    "!pip install --upgrade tensorflow'''"
   ]
  },
  {
   "cell_type": "code",
   "execution_count": null,
   "id": "11705861",
   "metadata": {},
   "outputs": [],
   "source": [
    "'''!pip install tensorflow'''"
   ]
  },
  {
   "cell_type": "code",
   "execution_count": null,
   "id": "905e1d41",
   "metadata": {},
   "outputs": [],
   "source": []
  }
 ],
 "metadata": {
  "kernelspec": {
   "display_name": "Python 3 (ipykernel)",
   "language": "python",
   "name": "python3"
  },
  "language_info": {
   "codemirror_mode": {
    "name": "ipython",
    "version": 3
   },
   "file_extension": ".py",
   "mimetype": "text/x-python",
   "name": "python",
   "nbconvert_exporter": "python",
   "pygments_lexer": "ipython3",
   "version": "3.9.15"
  }
 },
 "nbformat": 4,
 "nbformat_minor": 5
}
