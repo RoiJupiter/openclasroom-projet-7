{
 "cells": [
  {
   "cell_type": "code",
   "execution_count": 2,
   "id": "50cb6dbc",
   "metadata": {},
   "outputs": [],
   "source": [
    "'''import mlflow\n",
    "import mlflow.keras\n",
    "from mlflow.models.signature import infer_signature'''"
   ]
  },
  {
   "cell_type": "code",
   "execution_count": 3,
   "id": "d5172320",
   "metadata": {},
   "outputs": [],
   "source": [
    "'''\n",
    "\n",
    "mlflow.set_tracking_uri(\"http://127.0.0.1:5000\")\n",
    "mlflow.autolog()  # Or other tracking functions\n",
    "'''"
   ]
  },
  {
   "cell_type": "markdown",
   "id": "9ce60910",
   "metadata": {},
   "source": [
    "# Model Keras LSTM"
   ]
  },
  {
   "cell_type": "markdown",
   "id": "0592f62b",
   "metadata": {},
   "source": [
    "# Importation des libraires "
   ]
  },
  {
   "cell_type": "code",
   "execution_count": 4,
   "id": "3ac2d344",
   "metadata": {},
   "outputs": [
    {
     "name": "stderr",
     "output_type": "stream",
     "text": [
      "2023/07/24 11:57:11 INFO mlflow.tracking.fluent: Autologging successfully enabled for sklearn.\n",
      "2023/07/24 11:57:17 INFO mlflow.tracking.fluent: Autologging successfully enabled for tensorflow.\n"
     ]
    },
    {
     "name": "stdout",
     "output_type": "stream",
     "text": [
      "Segmentation Models: using `tf.keras` framework.\n"
     ]
    }
   ],
   "source": [
    "import numpy as np # linear algebraa\n",
    "import pandas as pd #* data processing, CSV file I/O (e.g. pd.read_csv)\n",
    "# Matplot\n",
    "import matplotlib.pyplot as plt\n",
    "%matplotlib inline\n",
    "\n",
    "import os\n",
    "from sklearn.preprocessing import LabelEncoder\n",
    "import tensorflow as tf\n",
    "\n",
    "# Import nltk package and download the stopwords\n",
    "import nltk \n",
    "from nltk.corpus import stopwords\n",
    "\n",
    "## Imports libs\n",
    "import os\n",
    "os.environ['CUDA_VISIBLE_DEVICES'] = '0'\n",
    "os.environ[\"SM_FRAMEWORK\"] = \"tf.keras\"\n",
    "\n",
    "from tensorflow import keras\n",
    "#import segmentation_models as sm\n",
    "\n",
    "from keras.preprocessing.text import Tokenizer\n",
    "\n",
    "from keras.utils import pad_sequences\n",
    "\n",
    "from sklearn.preprocessing import LabelEncoder\n",
    "\n",
    "# Import various layers needed for the architecture from keras\n",
    "from tensorflow.keras.layers import Conv1D, Bidirectional, LSTM, Dense, Input, Dropout\n",
    "from tensorflow.keras.layers import SpatialDropout1D\n",
    "from tensorflow.keras.callbacks import ModelCheckpoint\n",
    "\n",
    "\n",
    "from sklearn.metrics import recall_score\n",
    "from sklearn.metrics import precision_score\n",
    "from sklearn.metrics import accuracy_score\n",
    "\n",
    "from tensorflow.keras.optimizers import Adam\n",
    "from tensorflow.keras.callbacks import ReduceLROnPlateau\n",
    "\n",
    "import pickle\n",
    "from tensorflow import keras\n",
    "\n",
    "from sklearn.model_selection import train_test_split\n",
    "from sklearn.preprocessing import LabelEncoder\n",
    "\n",
    "from nltk.stem import SnowballStemmer\n",
    "import re"
   ]
  },
  {
   "cell_type": "markdown",
   "id": "ac2b3fb0",
   "metadata": {},
   "source": [
    "# Importation du dataset"
   ]
  },
  {
   "cell_type": "code",
   "execution_count": 5,
   "id": "4d63665f",
   "metadata": {},
   "outputs": [
    {
     "name": "stdout",
     "output_type": "stream",
     "text": [
      "Open file: data/training.1600000.processed.noemoticon.csv\n"
     ]
    }
   ],
   "source": [
    "dataset_path = \"data/training.1600000.processed.noemoticon.csv\"\n",
    "print(\"Open file:\", dataset_path)\n",
    "df = pd.read_csv(dataset_path, encoding = \"ISO-8859-1\" , names= [\"target\", \"ids\", \"date\", \"flag\", \"user\", \"text\"])"
   ]
  },
  {
   "cell_type": "code",
   "execution_count": 6,
   "id": "9c23fefc",
   "metadata": {},
   "outputs": [],
   "source": [
    "df = df.drop(['ids', 'date', 'flag', 'user'], axis=1)\n"
   ]
  },
  {
   "cell_type": "code",
   "execution_count": 7,
   "id": "50a32e3f",
   "metadata": {},
   "outputs": [
    {
     "data": {
      "text/html": [
       "<div>\n",
       "<style scoped>\n",
       "    .dataframe tbody tr th:only-of-type {\n",
       "        vertical-align: middle;\n",
       "    }\n",
       "\n",
       "    .dataframe tbody tr th {\n",
       "        vertical-align: top;\n",
       "    }\n",
       "\n",
       "    .dataframe thead th {\n",
       "        text-align: right;\n",
       "    }\n",
       "</style>\n",
       "<table border=\"1\" class=\"dataframe\">\n",
       "  <thead>\n",
       "    <tr style=\"text-align: right;\">\n",
       "      <th></th>\n",
       "      <th>target</th>\n",
       "      <th>text</th>\n",
       "    </tr>\n",
       "  </thead>\n",
       "  <tbody>\n",
       "    <tr>\n",
       "      <th>1599980</th>\n",
       "      <td>4</td>\n",
       "      <td>@myheartandmind jo jen by nemuselo zrovna tÃ© ...</td>\n",
       "    </tr>\n",
       "    <tr>\n",
       "      <th>1599981</th>\n",
       "      <td>4</td>\n",
       "      <td>Another Commenting Contest! [;: Yay!!!  http:/...</td>\n",
       "    </tr>\n",
       "    <tr>\n",
       "      <th>1599982</th>\n",
       "      <td>4</td>\n",
       "      <td>@thrillmesoon i figured out how to see my twee...</td>\n",
       "    </tr>\n",
       "    <tr>\n",
       "      <th>1599983</th>\n",
       "      <td>4</td>\n",
       "      <td>@oxhot theri tomorrow, drinking coffee, talkin...</td>\n",
       "    </tr>\n",
       "    <tr>\n",
       "      <th>1599984</th>\n",
       "      <td>4</td>\n",
       "      <td>You heard it here first -- We're having a girl...</td>\n",
       "    </tr>\n",
       "    <tr>\n",
       "      <th>1599985</th>\n",
       "      <td>4</td>\n",
       "      <td>if ur the lead singer in a band, beware fallin...</td>\n",
       "    </tr>\n",
       "    <tr>\n",
       "      <th>1599986</th>\n",
       "      <td>4</td>\n",
       "      <td>@tarayqueen too much ads on my blog.</td>\n",
       "    </tr>\n",
       "    <tr>\n",
       "      <th>1599987</th>\n",
       "      <td>4</td>\n",
       "      <td>@La_r_a NEVEER  I think that you both will get...</td>\n",
       "    </tr>\n",
       "    <tr>\n",
       "      <th>1599988</th>\n",
       "      <td>4</td>\n",
       "      <td>@Roy_Everitt ha- good job. that's right - we g...</td>\n",
       "    </tr>\n",
       "    <tr>\n",
       "      <th>1599989</th>\n",
       "      <td>4</td>\n",
       "      <td>@Ms_Hip_Hop im glad ur doing well</td>\n",
       "    </tr>\n",
       "    <tr>\n",
       "      <th>1599990</th>\n",
       "      <td>4</td>\n",
       "      <td>WOOOOO! Xbox is back</td>\n",
       "    </tr>\n",
       "    <tr>\n",
       "      <th>1599991</th>\n",
       "      <td>4</td>\n",
       "      <td>@rmedina @LaTati Mmmm  That sounds absolutely ...</td>\n",
       "    </tr>\n",
       "    <tr>\n",
       "      <th>1599992</th>\n",
       "      <td>4</td>\n",
       "      <td>ReCoVeRiNg FrOm ThE lOnG wEeKeNd</td>\n",
       "    </tr>\n",
       "    <tr>\n",
       "      <th>1599993</th>\n",
       "      <td>4</td>\n",
       "      <td>@SCOOBY_GRITBOYS</td>\n",
       "    </tr>\n",
       "    <tr>\n",
       "      <th>1599994</th>\n",
       "      <td>4</td>\n",
       "      <td>@Cliff_Forster Yeah, that does work better tha...</td>\n",
       "    </tr>\n",
       "    <tr>\n",
       "      <th>1599995</th>\n",
       "      <td>4</td>\n",
       "      <td>Just woke up. Having no school is the best fee...</td>\n",
       "    </tr>\n",
       "    <tr>\n",
       "      <th>1599996</th>\n",
       "      <td>4</td>\n",
       "      <td>TheWDB.com - Very cool to hear old Walt interv...</td>\n",
       "    </tr>\n",
       "    <tr>\n",
       "      <th>1599997</th>\n",
       "      <td>4</td>\n",
       "      <td>Are you ready for your MoJo Makeover? Ask me f...</td>\n",
       "    </tr>\n",
       "    <tr>\n",
       "      <th>1599998</th>\n",
       "      <td>4</td>\n",
       "      <td>Happy 38th Birthday to my boo of alll time!!! ...</td>\n",
       "    </tr>\n",
       "    <tr>\n",
       "      <th>1599999</th>\n",
       "      <td>4</td>\n",
       "      <td>happy #charitytuesday @theNSPCC @SparksCharity...</td>\n",
       "    </tr>\n",
       "  </tbody>\n",
       "</table>\n",
       "</div>"
      ],
      "text/plain": [
       "         target                                               text\n",
       "1599980       4  @myheartandmind jo jen by nemuselo zrovna tÃ© ...\n",
       "1599981       4  Another Commenting Contest! [;: Yay!!!  http:/...\n",
       "1599982       4  @thrillmesoon i figured out how to see my twee...\n",
       "1599983       4  @oxhot theri tomorrow, drinking coffee, talkin...\n",
       "1599984       4  You heard it here first -- We're having a girl...\n",
       "1599985       4  if ur the lead singer in a band, beware fallin...\n",
       "1599986       4              @tarayqueen too much ads on my blog. \n",
       "1599987       4  @La_r_a NEVEER  I think that you both will get...\n",
       "1599988       4  @Roy_Everitt ha- good job. that's right - we g...\n",
       "1599989       4                 @Ms_Hip_Hop im glad ur doing well \n",
       "1599990       4                              WOOOOO! Xbox is back \n",
       "1599991       4  @rmedina @LaTati Mmmm  That sounds absolutely ...\n",
       "1599992       4                  ReCoVeRiNg FrOm ThE lOnG wEeKeNd \n",
       "1599993       4                                  @SCOOBY_GRITBOYS \n",
       "1599994       4  @Cliff_Forster Yeah, that does work better tha...\n",
       "1599995       4  Just woke up. Having no school is the best fee...\n",
       "1599996       4  TheWDB.com - Very cool to hear old Walt interv...\n",
       "1599997       4  Are you ready for your MoJo Makeover? Ask me f...\n",
       "1599998       4  Happy 38th Birthday to my boo of alll time!!! ...\n",
       "1599999       4  happy #charitytuesday @theNSPCC @SparksCharity..."
      ]
     },
     "execution_count": 7,
     "metadata": {},
     "output_type": "execute_result"
    }
   ],
   "source": [
    "df.tail(20)"
   ]
  },
  {
   "cell_type": "markdown",
   "id": "d3b039f1",
   "metadata": {},
   "source": [
    "# Transformation de la donnée"
   ]
  },
  {
   "cell_type": "code",
   "execution_count": 8,
   "id": "e0544df3",
   "metadata": {},
   "outputs": [],
   "source": [
    "label_to_target = {0:\"Negative\", 4:\"Positive\"}\n",
    "def label_decoder(label):\n",
    "     return label_to_target[label]\n",
    "df.target = df.target.apply(lambda x: label_decoder(x))"
   ]
  },
  {
   "cell_type": "markdown",
   "id": "fd28023f",
   "metadata": {},
   "source": [
    "On vérifie si les classes sont bien équilibré"
   ]
  },
  {
   "cell_type": "code",
   "execution_count": 9,
   "id": "69d708c4",
   "metadata": {
    "scrolled": true
   },
   "outputs": [
    {
     "data": {
      "text/plain": [
       "<BarContainer object of 2 artists>"
      ]
     },
     "execution_count": 9,
     "metadata": {},
     "output_type": "execute_result"
    },
    {
     "data": {
      "image/png": "[encoded data removed]",
      "text/plain": [
       "<Figure size 800x400 with 1 Axes>"
      ]
     },
     "metadata": {},
     "output_type": "display_data"
    }
   ],
   "source": [
    "distribution = df.target.value_counts()\n",
    "plt.figure(figsize=(8,4))\n",
    "plt.bar(distribution.index, distribution.values)"
   ]
  },
  {
   "cell_type": "markdown",
   "id": "ffc24595",
   "metadata": {},
   "source": [
    "on applique un filtre avec les stopwords qui vont pouvoir enlever les mots inutile pour le modèle"
   ]
  },
  {
   "cell_type": "markdown",
   "id": "43fe9532",
   "metadata": {},
   "source": [
    "## Stopwords"
   ]
  },
  {
   "cell_type": "code",
   "execution_count": 10,
   "id": "8e10f451",
   "metadata": {},
   "outputs": [
    {
     "name": "stdout",
     "output_type": "stream",
     "text": [
      "['i', 'me', 'my', 'myself', 'we', 'our', 'ours', 'ourselves', 'you', \"you're\", \"you've\", \"you'll\", \"you'd\", 'your', 'yours', 'yourself', 'yourselves', 'he', 'him', 'his', 'himself', 'she', \"she's\", 'her', 'hers', 'herself', 'it', \"it's\", 'its', 'itself', 'they', 'them', 'their', 'theirs', 'themselves', 'what', 'which', 'who', 'whom', 'this', 'that', \"that'll\", 'these', 'those', 'am', 'is', 'are', 'was', 'were', 'be', 'been', 'being', 'have', 'has', 'had', 'having', 'do', 'does', 'did', 'doing', 'a', 'an', 'the', 'and', 'but', 'if', 'or', 'because', 'as', 'until', 'while', 'of', 'at', 'by', 'for', 'with', 'about', 'against', 'between', 'into', 'through', 'during', 'before', 'after', 'above', 'below', 'to', 'from', 'up', 'down', 'in', 'out', 'on', 'off', 'over', 'under', 'again', 'further', 'then', 'once', 'here', 'there', 'when', 'where', 'why', 'how', 'all', 'any', 'both', 'each', 'few', 'more', 'most', 'other', 'some', 'such', 'no', 'nor', 'not', 'only', 'own', 'same', 'so', 'than', 'too', 'very', 's', 't', 'can', 'will', 'just', 'don', \"don't\", 'should', \"should've\", 'now', 'd', 'll', 'm', 'o', 're', 've', 'y', 'ain', 'aren', \"aren't\", 'couldn', \"couldn't\", 'didn', \"didn't\", 'doesn', \"doesn't\", 'hadn', \"hadn't\", 'hasn', \"hasn't\", 'haven', \"haven't\", 'isn', \"isn't\", 'ma', 'mightn', \"mightn't\", 'mustn', \"mustn't\", 'needn', \"needn't\", 'shan', \"shan't\", 'shouldn', \"shouldn't\", 'wasn', \"wasn't\", 'weren', \"weren't\", 'won', \"won't\", 'wouldn', \"wouldn't\"]\n"
     ]
    },
    {
     "name": "stderr",
     "output_type": "stream",
     "text": [
      "[nltk_data] Downloading package stopwords to\n",
      "[nltk_data]     C:\\Users\\Jupiter\\AppData\\Roaming\\nltk_data...\n",
      "[nltk_data]   Package stopwords is already up-to-date!\n"
     ]
    }
   ],
   "source": [
    "nltk.download('stopwords')\n",
    "# We filter out the english language stopwrds\n",
    "\n",
    "stop_words = stopwords.words('english')\n",
    "print(stop_words)"
   ]
  },
  {
   "cell_type": "markdown",
   "id": "cc4fbddb",
   "metadata": {},
   "source": [
    "## Stemmer "
   ]
  },
  {
   "cell_type": "markdown",
   "id": "4c2aaa2c",
   "metadata": {},
   "source": [
    "Un stemmer, également appelé racinisateur, est un outil utilisé en traitement automatique du langage naturel pour réduire les mots à leur forme de base ou racine, appelée le \"stem\". Le processus de \"stemming\" consiste à retirer les affixes (préfixes et suffixes) des mots tout en conservant la partie centrale, qui représente la racine commune.\n",
    "\n",
    "Le stemmer vise à regrouper les mots apparentés sous une même racine, ce qui facilite l'analyse textuelle en réduisant la dimensionnalité du vocabulaire et en mettant l'accent sur le sens plutôt que sur les variations morphologiques."
   ]
  },
  {
   "cell_type": "markdown",
   "id": "da22285d",
   "metadata": {},
   "source": [
    "on établie un fonction pour nettoyer les tweets qui va utiliser le stemmer"
   ]
  },
  {
   "cell_type": "code",
   "execution_count": 11,
   "id": "a9579236",
   "metadata": {},
   "outputs": [],
   "source": [
    "stemmer = SnowballStemmer('english')"
   ]
  },
  {
   "cell_type": "markdown",
   "id": "545120df",
   "metadata": {},
   "source": [
    "## Regex"
   ]
  },
  {
   "cell_type": "code",
   "execution_count": 12,
   "id": "3a0497cd",
   "metadata": {},
   "outputs": [],
   "source": [
    "\n",
    "text_cleaning_regex = \"@S+|https?:S+|http?:S|[^A-Za-z0-9]+\""
   ]
  },
  {
   "cell_type": "markdown",
   "id": "fb042d4a",
   "metadata": {},
   "source": [
    "fonction qui va nettoyer le texte des tweets"
   ]
  },
  {
   "cell_type": "code",
   "execution_count": 13,
   "id": "de319cd1",
   "metadata": {},
   "outputs": [],
   "source": [
    "def clean_tweets(text, stem=False):\n",
    "    # Text passed to the regex equation\n",
    "    text = re.sub(text_cleaning_regex, ' ', str(text).lower()).strip()\n",
    "    # Empty list created to store final tokens\n",
    "    tokens = []\n",
    "    for token in text.split():\n",
    "        # Check if the token is a stop word or not\n",
    "        if token not in stop_words:\n",
    "            if stem:\n",
    "                # Passed to the snowball stemmer\n",
    "                tokens.append(stemmer.stem(token))\n",
    "            else:\n",
    "                # Added to the list as it is\n",
    "                tokens.append(token)\n",
    "    return \" \".join(tokens)"
   ]
  },
  {
   "cell_type": "code",
   "execution_count": 14,
   "id": "70f8323e",
   "metadata": {},
   "outputs": [],
   "source": [
    "df.text = df.text.apply(lambda x: clean_tweets(x))"
   ]
  },
  {
   "cell_type": "code",
   "execution_count": 15,
   "id": "1a908224",
   "metadata": {},
   "outputs": [
    {
     "name": "stdout",
     "output_type": "stream",
     "text": [
      "Train Data size: 1280000\n",
      "Test Data size 320000\n"
     ]
    }
   ],
   "source": [
    "# Splitting the data into training and testing sets\n",
    "train_data, test_data = train_test_split(df, test_size=0.2,random_state=16)\n",
    "print(\"Train Data size:\", len(train_data))\n",
    "print(\"Test Data size\", len(test_data))"
   ]
  },
  {
   "cell_type": "markdown",
   "id": "407cdaef",
   "metadata": {},
   "source": [
    "## Tokenizer"
   ]
  },
  {
   "cell_type": "code",
   "execution_count": 16,
   "id": "d9f54efd",
   "metadata": {},
   "outputs": [],
   "source": [
    "tokenizer = Tokenizer()"
   ]
  },
  {
   "cell_type": "code",
   "execution_count": 17,
   "id": "d0388957",
   "metadata": {},
   "outputs": [
    {
     "name": "stderr",
     "output_type": "stream",
     "text": [
      "IOPub data rate exceeded.\n",
      "The notebook server will temporarily stop sending output\n",
      "to the client in order to avoid crashing it.\n",
      "To change this limit, set the config variable\n",
      "`--NotebookApp.iopub_data_rate_limit`.\n",
      "\n",
      "Current values:\n",
      "NotebookApp.iopub_data_rate_limit=1000000.0 (bytes/sec)\n",
      "NotebookApp.rate_limit_window=3.0 (secs)\n",
      "\n"
     ]
    }
   ],
   "source": [
    "tokenizer.fit_on_texts(train_data.text)\n",
    "word_index = tokenizer.word_index\n",
    "print(word_index)"
   ]
  },
  {
   "cell_type": "code",
   "execution_count": 18,
   "id": "0a30d4d3",
   "metadata": {},
   "outputs": [
    {
     "name": "stdout",
     "output_type": "stream",
     "text": [
      "Vocabulary Size : 565660\n"
     ]
    }
   ],
   "source": [
    "vocab_size = len(tokenizer.word_index) + 1\n",
    "print(\"Vocabulary Size :\", vocab_size)"
   ]
  },
  {
   "cell_type": "markdown",
   "id": "60771129",
   "metadata": {},
   "source": [
    "pad_sequences est utilisé pour effectuer un rembourrage (padding) des séquences dans un ensemble de données. Dans le contexte du traitement du langage naturel, cela est couramment utilisé pour préparer des données textuelles avant de les utiliser dans un modèle de réseau neuronal."
   ]
  },
  {
   "cell_type": "code",
   "execution_count": 19,
   "id": "7fb09e59",
   "metadata": {},
   "outputs": [],
   "source": [
    "# The tokens are converted into sequences and then passed to the pad_sequences() function\n",
    "x_train = pad_sequences(tokenizer.texts_to_sequences(train_data.text),maxlen = 30)\n",
    "x_test = pad_sequences(tokenizer.texts_to_sequences(test_data.text),maxlen = 30)"
   ]
  },
  {
   "cell_type": "code",
   "execution_count": 20,
   "id": "fc067877",
   "metadata": {},
   "outputs": [],
   "source": [
    "labels = ['Negative', 'Positive']\n",
    "\n",
    "encoder = LabelEncoder()\n",
    "encoder.fit(train_data.target.to_list())\n",
    "y_train = encoder.transform(train_data.target.to_list())\n",
    "y_test = encoder.transform(test_data.target.to_list())\n",
    "y_train = y_train.reshape(-1,1)\n",
    "y_test = y_test.reshape(-1,1)"
   ]
  },
  {
   "cell_type": "markdown",
   "id": "49827933",
   "metadata": {},
   "source": [
    "# Word Embeding GLOVE"
   ]
  },
  {
   "cell_type": "markdown",
   "id": "09122b5f",
   "metadata": {},
   "source": [
    "On applique le word Embeding GLOVE"
   ]
  },
  {
   "cell_type": "code",
   "execution_count": 21,
   "id": "66db3a4b",
   "metadata": {
    "scrolled": true
   },
   "outputs": [
    {
     "name": "stdout",
     "output_type": "stream",
     "text": [
      "Found 400000 word vectors.\n"
     ]
    }
   ],
   "source": [
    "'''embeddings_index = {}\n",
    "# opening the downloaded glove embeddings file\n",
    "f = open('data/glove.6B.300d.txt',encoding=\"utf8\")\n",
    "for line in f:\n",
    "    # For each line file, the words are split and stored in a list\n",
    "    values = line.split()\n",
    "    word = value = values[0]\n",
    "    coefs = np.asarray(values[1:], dtype='float32')\n",
    "    embeddings_index[word] = coefs\n",
    "f.close()\n",
    "print('Found %s word vectors.' %len(embeddings_index))'''"
   ]
  },
  {
   "cell_type": "code",
   "execution_count": 22,
   "id": "c13b1c54",
   "metadata": {},
   "outputs": [],
   "source": [
    "'''# creating an matrix with zeroes of shape vocab x embedding dimension\n",
    "embedding_matrix = np.zeros((vocab_size, 300))\n",
    "# Iterate through word, index in the dictionary\n",
    "for word, i in word_index.items():\n",
    "    # extract the corresponding vector for the vocab indice of same word\n",
    "    embedding_vector = embeddings_index.get(word)\n",
    "    if embedding_vector is not None:\n",
    "        # Storing it in a matrix\n",
    "        embedding_matrix[i] = embedding_vector'''"
   ]
  },
  {
   "cell_type": "code",
   "execution_count": 23,
   "id": "f8459bf4",
   "metadata": {},
   "outputs": [],
   "source": [
    "'''embedding_layer = tf.keras.layers.Embedding(vocab_size,300,weights=[embedding_matrix],\n",
    "                                          input_length=30,trainable=False)'''\n",
    "\n",
    "# Nombre total de mots dans votre vocabulaire\n",
    "vocab_size = 10000\n",
    "\n",
    "# Dimension des vecteurs d'embedding\n",
    "embedding_dim = 100\n",
    "\n",
    "# Créez une instance de la couche d'embedding en spécifiant le nombre total de mots dans votre vocabulaire et la dimension des vecteurs d'embedding\n",
    "embedding_layer = tf.keras.layers.Embedding(input_dim=vocab_size, output_dim=embedding_dim)\n",
    "\n"
   ]
  },
  {
   "cell_type": "markdown",
   "id": "a09adc58",
   "metadata": {},
   "source": [
    "# Model"
   ]
  },
  {
   "cell_type": "markdown",
   "id": "c788ac54",
   "metadata": {},
   "source": [
    "## Défintion du model - Training"
   ]
  },
  {
   "cell_type": "code",
   "execution_count": 24,
   "id": "3409d853",
   "metadata": {},
   "outputs": [],
   "source": [
    "lr_schedule = keras.optimizers.schedules.ExponentialDecay(\n",
    "    initial_learning_rate=1e-2,\n",
    "    decay_steps=10000,\n",
    "    decay_rate=0.5)"
   ]
  },
  {
   "cell_type": "code",
   "execution_count": 25,
   "id": "7cf614b5",
   "metadata": {},
   "outputs": [],
   "source": [
    "learning_rates = [0.01, 0.02, 0.03]\n",
    "\n",
    "def create_model(lrs) : \n",
    "    \n",
    "    # The Input layer \n",
    "    sequence_input = Input(shape=(30,), dtype='int32')\n",
    "    # Inputs passed to the embedding layer\n",
    "    embedding_sequences = embedding_layer(sequence_input)\n",
    "    # dropout and conv layer \n",
    "    x = SpatialDropout1D(0.2)(embedding_sequences)\n",
    "    x = Conv1D(64, 5, activation='relu')(x)\n",
    "    # Passed on to the LSTM layer\n",
    "    x = Bidirectional(LSTM(64, dropout=0.2, recurrent_dropout=0.2))(x)\n",
    "    x = Dense(512, activation='relu')(x)\n",
    "    x = Dropout(0.5)(x)\n",
    "    x = Dense(512, activation='relu')(x)\n",
    "    # Passed on to activation layer to get final output\n",
    "    outputs = Dense(1, activation='sigmoid')(x)\n",
    "    model = tf.keras.Model(sequence_input, outputs)\n",
    "\n",
    "    model.compile(optimizer = Adam(learning_rate = lrs), loss='binary_crossentropy',metrics=['accuracy'])\n",
    "    \n",
    "    \n",
    "    return model\n",
    "\n",
    "model = create_model(lr_schedule)    "
   ]
  },
  {
   "cell_type": "code",
   "execution_count": 26,
   "id": "610b3312",
   "metadata": {},
   "outputs": [],
   "source": [
    "#callback \n",
    "ReduceLROnPlateau = ReduceLROnPlateau(factor = 0.1,min_lr = 0.01, monitor = 'val_loss',verbose = 1)"
   ]
  },
  {
   "cell_type": "markdown",
   "id": "fd36019b",
   "metadata": {},
   "source": [
    "Entraînement du model "
   ]
  },
  {
   "cell_type": "code",
   "execution_count": 27,
   "id": "348217d9",
   "metadata": {},
   "outputs": [],
   "source": [
    "epochs = 10\n",
    "batch_size = 1024"
   ]
  },
  {
   "cell_type": "code",
   "execution_count": 28,
   "id": "4c9b8117",
   "metadata": {
    "scrolled": true
   },
   "outputs": [
    {
     "name": "stdout",
     "output_type": "stream",
     "text": [
      "Epoch 1/10\n",
      "1250/1250 [==============================] - 617s 491ms/step - loss: 0.5200 - accuracy: 0.7406 - val_loss: 0.4861 - val_accuracy: 0.7639 - lr: 0.0092\n",
      "Epoch 2/10\n",
      "1250/1250 [==============================] - 650s 520ms/step - loss: 0.4926 - accuracy: 0.7598 - val_loss: 0.4791 - val_accuracy: 0.7670 - lr: 0.0084\n",
      "Epoch 3/10\n",
      "1250/1250 [==============================] - 713s 571ms/step - loss: 0.4853 - accuracy: 0.7644 - val_loss: 0.4769 - val_accuracy: 0.7711 - lr: 0.0077\n",
      "Epoch 4/10\n",
      "1250/1250 [==============================] - 732s 585ms/step - loss: 0.4811 - accuracy: 0.7674 - val_loss: 0.4744 - val_accuracy: 0.7711 - lr: 0.0071\n",
      "Epoch 5/10\n",
      "1250/1250 [==============================] - 709s 568ms/step - loss: 0.4777 - accuracy: 0.7694 - val_loss: 0.4725 - val_accuracy: 0.7728 - lr: 0.0065\n",
      "Epoch 6/10\n",
      "1250/1250 [==============================] - 700s 560ms/step - loss: 0.4750 - accuracy: 0.7711 - val_loss: 0.4706 - val_accuracy: 0.7735 - lr: 0.0059\n",
      "Epoch 7/10\n",
      "1250/1250 [==============================] - 691s 553ms/step - loss: 0.4727 - accuracy: 0.7726 - val_loss: 0.4733 - val_accuracy: 0.7742 - lr: 0.0055\n",
      "Epoch 8/10\n",
      "1250/1250 [==============================] - 707s 565ms/step - loss: 0.4706 - accuracy: 0.7739 - val_loss: 0.4718 - val_accuracy: 0.7758 - lr: 0.0050\n",
      "Epoch 9/10\n",
      "1250/1250 [==============================] - 762s 609ms/step - loss: 0.4689 - accuracy: 0.7749 - val_loss: 0.4692 - val_accuracy: 0.7755 - lr: 0.0046\n",
      "Epoch 10/10\n",
      "1250/1250 [==============================] - 767s 614ms/step - loss: 0.4672 - accuracy: 0.7759 - val_loss: 0.4711 - val_accuracy: 0.7763 - lr: 0.0042\n"
     ]
    },
    {
     "name": "stderr",
     "output_type": "stream",
     "text": [
      "2023/07/24 13:57:46 WARNING mlflow.utils.autologging_utils: Encountered unexpected error during tensorflow autologging: API request to http://127.0.0.1:5000/api/2.0/mlflow/runs/create failed with exception HTTPConnectionPool(host='127.0.0.1', port=5000): Max retries exceeded with url: /api/2.0/mlflow/runs/create (Caused by NewConnectionError('<urllib3.connection.HTTPConnection object at 0x00000256FA100CD0>: Failed to establish a new connection: [WinError 10061] Aucune connexion n’a pu être établie car l’ordinateur cible l’a expressément refusée'))\n"
     ]
    }
   ],
   "source": [
    "history = model.fit(x_train, y_train, batch_size = batch_size, epochs = epochs,\n",
    "                    validation_data = (x_test, y_test), callbacks = [ReduceLROnPlateau])"
   ]
  },
  {
   "cell_type": "markdown",
   "id": "18b3409b",
   "metadata": {},
   "source": [
    "## History plot métriques du training"
   ]
  },
  {
   "cell_type": "code",
   "execution_count": 29,
   "id": "7a3db20d",
   "metadata": {},
   "outputs": [
    {
     "data": {
      "image/png": "[encoded data removed]",
      "text/plain": [
       "<Figure size 1500x500 with 3 Axes>"
      ]
     },
     "metadata": {},
     "output_type": "display_data"
    }
   ],
   "source": [
    "from plot_keras_history import show_history, plot_history\n",
    "import matplotlib.pyplot as plt\n",
    "\n",
    "history = history\n",
    "show_history(history)\n",
    "plot_history(history, path=\"standard.png\")\n",
    "plt.close()"
   ]
  },
  {
   "cell_type": "markdown",
   "id": "4475d55f",
   "metadata": {},
   "source": [
    "## Prédiction du sentiment des tweets"
   ]
  },
  {
   "cell_type": "markdown",
   "id": "5acbf3b2",
   "metadata": {},
   "source": [
    "fonctions qui va prédire le sentiment d'un tweet avec le dataset de validation"
   ]
  },
  {
   "cell_type": "code",
   "execution_count": 30,
   "id": "653a232a",
   "metadata": {},
   "outputs": [],
   "source": [
    "def predict_tweet_sentiment(score):\n",
    "    return \"Positive\" if score>0.5 else \"Negative\"\n",
    "\n",
    "def y_pred(score):\n",
    "    return 1 if score>0.5 else 0"
   ]
  },
  {
   "cell_type": "code",
   "execution_count": 31,
   "id": "3f291c2a",
   "metadata": {},
   "outputs": [
    {
     "name": "stdout",
     "output_type": "stream",
     "text": [
      "32/32 [==============================] - 29s 878ms/step\n"
     ]
    }
   ],
   "source": [
    "scores = model.predict(x_test, verbose=1, batch_size=10000)\n",
    "model_predictions = [predict_tweet_sentiment(score) for score in scores]\n",
    "y_pred = [y_pred(score) for score in scores]"
   ]
  },
  {
   "cell_type": "markdown",
   "id": "a7ac3e16",
   "metadata": {},
   "source": [
    "## Métriques"
   ]
  },
  {
   "cell_type": "code",
   "execution_count": 32,
   "id": "dd2ecefd",
   "metadata": {},
   "outputs": [
    {
     "name": "stdout",
     "output_type": "stream",
     "text": [
      "              precision    recall  f1-score   support\n",
      "\n",
      "    Negative       0.77      0.78      0.78    159809\n",
      "    Positive       0.78      0.77      0.78    160191\n",
      "\n",
      "    accuracy                           0.78    320000\n",
      "   macro avg       0.78      0.78      0.78    320000\n",
      "weighted avg       0.78      0.78      0.78    320000\n",
      "\n"
     ]
    }
   ],
   "source": [
    "from sklearn.metrics import classification_report\n",
    "print(classification_report(list(test_data.target), model_predictions))"
   ]
  },
  {
   "cell_type": "markdown",
   "id": "03a6d8f4",
   "metadata": {},
   "source": [
    "## Sauvegarde des métriques \n"
   ]
  },
  {
   "cell_type": "code",
   "execution_count": 32,
   "id": "76e2d885",
   "metadata": {},
   "outputs": [],
   "source": [
    "recall = recall_score(y_test, y_pred)\n",
    "\n",
    "precision = precision_score(y_test, y_pred)\n",
    "\n",
    "accuracy = accuracy_score(y_test, y_pred)\n",
    "\n",
    "df = pd.DataFrame({'Nom du modèle': ['Modèle keras avec couche LSTM'], 'Recall': [recall], 'Precision': [precision], 'Accuracy': [accuracy]})"
   ]
  },
  {
   "cell_type": "code",
   "execution_count": 33,
   "id": "13606337",
   "metadata": {},
   "outputs": [
    {
     "data": {
      "text/html": [
       "<div>\n",
       "<style scoped>\n",
       "    .dataframe tbody tr th:only-of-type {\n",
       "        vertical-align: middle;\n",
       "    }\n",
       "\n",
       "    .dataframe tbody tr th {\n",
       "        vertical-align: top;\n",
       "    }\n",
       "\n",
       "    .dataframe thead th {\n",
       "        text-align: right;\n",
       "    }\n",
       "</style>\n",
       "<table border=\"1\" class=\"dataframe\">\n",
       "  <thead>\n",
       "    <tr style=\"text-align: right;\">\n",
       "      <th></th>\n",
       "      <th>Nom du modèle</th>\n",
       "      <th>Recall</th>\n",
       "      <th>Precision</th>\n",
       "      <th>Accuracy</th>\n",
       "    </tr>\n",
       "  </thead>\n",
       "  <tbody>\n",
       "    <tr>\n",
       "      <th>0</th>\n",
       "      <td>Modèle keras avec couche LSTM</td>\n",
       "      <td>0.778976</td>\n",
       "      <td>0.775187</td>\n",
       "      <td>0.776266</td>\n",
       "    </tr>\n",
       "  </tbody>\n",
       "</table>\n",
       "</div>"
      ],
      "text/plain": [
       "                   Nom du modèle    Recall  Precision  Accuracy\n",
       "0  Modèle keras avec couche LSTM  0.778976   0.775187  0.776266"
      ]
     },
     "execution_count": 33,
     "metadata": {},
     "output_type": "execute_result"
    }
   ],
   "source": [
    "df"
   ]
  },
  {
   "cell_type": "code",
   "execution_count": 34,
   "id": "48aab414",
   "metadata": {},
   "outputs": [],
   "source": [
    "#export de la donnée en csv \n",
    "df.to_csv('models_results/model_keras_lstm_results.csv')"
   ]
  },
  {
   "cell_type": "markdown",
   "id": "8a1ea88e",
   "metadata": {},
   "source": [
    "## MLFOW sauvegarde des métriques et des paramètres"
   ]
  },
  {
   "cell_type": "code",
   "execution_count": 36,
   "id": "c49fecaf",
   "metadata": {},
   "outputs": [
    {
     "data": {
      "text/plain": [
       "<keras.optimizers.schedules.learning_rate_schedule.ExponentialDecay at 0x1f8e95133a0>"
      ]
     },
     "execution_count": 36,
     "metadata": {},
     "output_type": "execute_result"
    }
   ],
   "source": [
    "'''\n",
    "# Enregistrement des métriques\n",
    "mlflow.log_metric('accuracy', accuracy)\n",
    "mlflow.log_metric('recall', recall)\n",
    "mlflow.log_metric('precision', precision)\n",
    "mlflow.log_metric('epochs', epochs)\n",
    "mlflow.log_metric('batch_size', batch_size)\n",
    "mlflow.log_param('loss', 'binary_crossentropy')\n",
    "mlflow.log_param('opitmizer', Adam)\n",
    "mlflow.log_param('learning rate', lr_schedule)'''"
   ]
  },
  {
   "cell_type": "code",
   "execution_count": null,
   "id": "e8624cba",
   "metadata": {
    "scrolled": true
   },
   "outputs": [],
   "source": []
  },
  {
   "cell_type": "markdown",
   "id": "eb481a59",
   "metadata": {},
   "source": [
    "## Savegarde du model, model enregistrer avec Mlflow"
   ]
  },
  {
   "cell_type": "code",
   "execution_count": 37,
   "id": "a1081062",
   "metadata": {
    "scrolled": true
   },
   "outputs": [
    {
     "name": "stderr",
     "output_type": "stream",
     "text": [
      "WARNING:absl:Found untraced functions such as _jit_compiled_convolution_op, _update_step_xla while saving (showing 2 of 2). These functions will not be directly callable after loading.\n"
     ]
    },
    {
     "name": "stdout",
     "output_type": "stream",
     "text": [
      "INFO:tensorflow:Assets written to: C:\\Users\\Jupiter\\AppData\\Local\\Temp\\tmp3a6c9ilt\\model\\data\\model\\assets\n"
     ]
    },
    {
     "name": "stderr",
     "output_type": "stream",
     "text": [
      "INFO:tensorflow:Assets written to: C:\\Users\\Jupiter\\AppData\\Local\\Temp\\tmp3a6c9ilt\\model\\data\\model\\assets\n",
      "D:\\anaconda3\\envs\\OPP7\\lib\\site-packages\\_distutils_hack\\__init__.py:33: UserWarning: Setuptools is replacing distutils.\n",
      "  warnings.warn(\"Setuptools is replacing distutils.\")\n"
     ]
    },
    {
     "data": {
      "text/plain": [
       "<mlflow.models.model.ModelInfo at 0x1f974e65f40>"
      ]
     },
     "execution_count": 37,
     "metadata": {},
     "output_type": "execute_result"
    }
   ],
   "source": [
    "#save models\n",
    "pickle.dump(model, open('data/model_keras_LSTM.pkl', 'wb'))\n",
    "\n",
    "#sauvegarde du model via mlflow\n",
    "y_pred_array = np.array(y_pred)\n",
    "\n",
    "'''signature = infer_signature(x_test, y_pred_array)\n",
    "mlflow.keras.log_model(model, 'keras LSTM', signature = signature)'''"
   ]
  },
  {
   "cell_type": "code",
   "execution_count": 38,
   "id": "d43f9619",
   "metadata": {},
   "outputs": [],
   "source": [
    "'''# Arrêt de l'exécution deMLflow\n",
    "mlflow.end_run()'''"
   ]
  },
  {
   "cell_type": "markdown",
   "id": "4aae7a51",
   "metadata": {},
   "source": [
    "# Test unitaire"
   ]
  },
  {
   "cell_type": "code",
   "execution_count": 39,
   "id": "75520dfb",
   "metadata": {},
   "outputs": [],
   "source": [
    "import unittest"
   ]
  },
  {
   "cell_type": "code",
   "execution_count": 43,
   "id": "a9224ef8",
   "metadata": {},
   "outputs": [],
   "source": [
    "# Tests unitaires\n",
    "def test_clean_tweets():\n",
    "    # Cas de test avec stem=False\n",
    "    input_text = \"Hello! This is a sample tweet.\"\n",
    "    expected_output = \"hello sample tweet\"\n",
    "    assert clean_tweets(input_text) == expected_output\n",
    "\n",
    "    # Cas de test avec stem=True\n",
    "    input_text = \"Running, runs\"\n",
    "    expected_output = \"run run\"\n",
    "    assert clean_tweets(input_text, stem=True) == expected_output\n",
    "\n",
    "    # Cas de test avec un texte vide\n",
    "    input_text = \"\"\n",
    "    expected_output = \"\"\n",
    "    assert clean_tweets(input_text) == expected_output\n",
    "\n",
    "    # Cas de test avec uniquement des stop words\n",
    "    input_text = \"the and is\"\n",
    "    expected_output = \"\"\n",
    "    assert clean_tweets(input_text) == expected_output\n",
    "    \n",
    "    \n",
    "def test_predict_tweet_sentiment():\n",
    "    # Cas de test avec score > 0.5\n",
    "    score = 0.8\n",
    "    expected_output = \"Positive\"\n",
    "    assert predict_tweet_sentiment(score) == expected_output\n",
    "\n",
    "    # Cas de test avec score <= 0.5\n",
    "    score = 0.3\n",
    "    expected_output = \"Negative\"\n",
    "    assert predict_tweet_sentiment(score) == expected_output\n",
    "\n",
    "\n",
    "\n",
    "\n",
    "\n",
    "# Appel du test unitaire\n",
    "test_clean_tweets()\n",
    "test_predict_tweet_sentiment()\n"
   ]
  },
  {
   "cell_type": "code",
   "execution_count": null,
   "id": "a387eb5f",
   "metadata": {},
   "outputs": [],
   "source": [
    "# ajioute batch et epoch parmetre mlfow"
   ]
  },
  {
   "cell_type": "code",
   "execution_count": null,
   "id": "62712358",
   "metadata": {},
   "outputs": [],
   "source": [
    "import mlflow\n",
    "logged_model = 'runs:/ed0a2af655644b3f8572bea3c66aa100/keras LSTM'\n",
    "\n",
    "# Load model as a PyFuncModel.\n",
    "loaded_model = mlflow.pyfunc.load_model(logged_model)\n",
    "\n",
    "# Predict on a Pandas DataFrame.\n",
    "import pandas as pd\n",
    "loaded_model.predict(pd.DataFrame(data))"
   ]
  },
  {
   "cell_type": "code",
   "execution_count": 61,
   "id": "f0cab6e7",
   "metadata": {},
   "outputs": [],
   "source": [
    "import git\n",
    "\n",
    "def git_commit_push():\n",
    "    repo = git.Repo('D:/anaconda3/envs/env1/notebooks/OP Notebooks/p7/github/openclasroom-projet-7')\n",
    "    repo.git.add('.')  # Ajoutez tout le contenu du référentiel à l'index Git\n",
    "    repo.index.commit('Mise à jour du modèle', skip_hooks=True)  # Effectuez le commit avec un message et skip_hooks=True\n",
    "\n",
    "    # Poussez les modifications vers GitHub (assurez-vous que vos clés SSH ou jetons sont configurés correctement)\n",
    "    origin = repo.remote(name='origin')\n",
    "    origin.push()\n",
    "\n",
    "#git_commit_push()"
   ]
  },
  {
   "cell_type": "code",
   "execution_count": null,
   "id": "56b0b29a",
   "metadata": {},
   "outputs": [],
   "source": []
  },
  {
   "cell_type": "code",
   "execution_count": null,
   "id": "6c516d4d",
   "metadata": {},
   "outputs": [],
   "source": []
  }
 ],
 "metadata": {
  "kernelspec": {
   "display_name": "Python 3 (ipykernel)",
   "language": "python",
   "name": "python3"
  },
  "language_info": {
   "codemirror_mode": {
    "name": "ipython",
    "version": 3
   },
   "file_extension": ".py",
   "mimetype": "text/x-python",
   "name": "python",
   "nbconvert_exporter": "python",
   "pygments_lexer": "ipython3",
   "version": "3.9.5"
  }
 },
 "nbformat": 4,
 "nbformat_minor": 5
}
